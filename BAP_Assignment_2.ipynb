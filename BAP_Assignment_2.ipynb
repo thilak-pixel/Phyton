{
  "nbformat": 4,
  "nbformat_minor": 0,
  "metadata": {
    "kernelspec": {
      "display_name": "Python 3",
      "language": "python",
      "name": "python3"
    },
    "language_info": {
      "codemirror_mode": {
        "name": "ipython",
        "version": 3
      },
      "file_extension": ".py",
      "mimetype": "text/x-python",
      "name": "python",
      "nbconvert_exporter": "python",
      "pygments_lexer": "ipython3",
      "version": "3.7.1"
    },
    "colab": {
      "provenance": []
    }
  },
  "cells": [
    {
      "cell_type": "markdown",
      "metadata": {
        "id": "Sgv-Rg81Rr6A"
      },
      "source": [
        "### Business Application Development\n",
        "### Assignment 2:  Functions \n",
        "Please complete these exercises to the best of your abilities.  Please include code to invoke each of your functions to demonstrate the functionality.  Write comments throughout your code to explain steps.  If you run into a persistent error, please demonstrate your efforts to resolve it; search the web for the error, see if you can get closer to figuring it out.  Document what you tried in order to fix the problem. "
      ]
    },
    {
      "cell_type": "markdown",
      "metadata": {
        "id": "ECYlu9g8I7fH"
      },
      "source": [
        "It is very important to understand the difference between printing and returning output from a function. For most functions, it is desirable to use a return statement. Doing so ensures that the output is usable for additional operations. Sometimes the output of a function is generated using a print statement. This choice is made when the output is static and does not need to interact with any other part of your program. Please see the [video explaining this concept](https://youtu.be/6u_d4nL3xwI). Pay careful attention to the language of the problem so that you can correctly print or return the output."
      ]
    },
    {
      "cell_type": "markdown",
      "metadata": {
        "id": "IJkopS8pRr6D"
      },
      "source": [
        "#### Problem 1\n",
        "Writing basic functions."
      ]
    },
    {
      "cell_type": "markdown",
      "metadata": {
        "id": "794ygeWvJKyq"
      },
      "source": [
        "a. Write a basic function to print the statment \"I can't get enough Python!\""
      ]
    },
    {
      "cell_type": "code",
      "metadata": {
        "id": "x7HcX9lrJLMC"
      },
      "source": [
        "# a.\n",
        "def statement():\n",
        "    # your code\n",
        "    print(\"I can't get enough Python!\")\n"
      ],
      "execution_count": 76,
      "outputs": []
    },
    {
      "cell_type": "markdown",
      "source": [
        "Run the function"
      ],
      "metadata": {
        "id": "UDe3i8j2suW1"
      }
    },
    {
      "cell_type": "code",
      "source": [
        "# run the function\n",
        "statement()"
      ],
      "metadata": {
        "id": "iXrFLVsosu7t",
        "outputId": "0f1dec51-c8e1-4232-b028-6b5c783bce5e",
        "colab": {
          "base_uri": "https://localhost:8080/"
        }
      },
      "execution_count": 77,
      "outputs": [
        {
          "output_type": "stream",
          "name": "stdout",
          "text": [
            "I can't get enough Python!\n"
          ]
        }
      ]
    },
    {
      "cell_type": "markdown",
      "source": [
        "Expected Output\n",
        "```\n",
        "I can't get enough Python!\n",
        "```"
      ],
      "metadata": {
        "id": "9kOwJm5w1Dpk"
      }
    },
    {
      "cell_type": "markdown",
      "metadata": {
        "id": "iVPv8beLRr6E"
      },
      "source": [
        "b. Write a basic function that accepts a name argument and prints \"(name) can't get enough Python!\""
      ]
    },
    {
      "cell_type": "code",
      "metadata": {
        "scrolled": true,
        "id": "z78TDVuLRr6G"
      },
      "source": [
        "# b. \n",
        "def statement_arg(name):\n",
        "    # your code\n",
        "    print(f\"(name) can't get enough Python!\")\n",
        "\n"
      ],
      "execution_count": 78,
      "outputs": []
    },
    {
      "cell_type": "markdown",
      "source": [
        "Run the function using sample argument \"Tina\". "
      ],
      "metadata": {
        "id": "rdp9_1fRs0VY"
      }
    },
    {
      "cell_type": "code",
      "source": [
        "#run the function on the variable defined below\n",
        "name=\"Tina\"\n",
        "statement_arg(name)"
      ],
      "metadata": {
        "id": "3F3kXynts5UB",
        "outputId": "0b6ce9c1-491a-408e-f802-a0cac1294ad0",
        "colab": {
          "base_uri": "https://localhost:8080/"
        }
      },
      "execution_count": 79,
      "outputs": [
        {
          "output_type": "stream",
          "name": "stdout",
          "text": [
            "(name) can't get enough Python!\n"
          ]
        }
      ]
    },
    {
      "cell_type": "markdown",
      "source": [
        "Expected Output\n",
        "```\n",
        "Tina can't get enough Python!\n",
        "```"
      ],
      "metadata": {
        "id": "BsY6h_bZtbrj"
      }
    },
    {
      "cell_type": "markdown",
      "source": [
        "Run the function using sample argument \"Enzo\"."
      ],
      "metadata": {
        "id": "Pk_LnjiFs8Az"
      }
    },
    {
      "cell_type": "code",
      "source": [
        "name=\"Enzo\"\n",
        "statement_arg(name)"
      ],
      "metadata": {
        "id": "cgaEkGk8tDA8",
        "outputId": "798da7c9-d24b-45f4-9a33-5974596b1038",
        "colab": {
          "base_uri": "https://localhost:8080/"
        }
      },
      "execution_count": 80,
      "outputs": [
        {
          "output_type": "stream",
          "name": "stdout",
          "text": [
            "(name) can't get enough Python!\n"
          ]
        }
      ]
    },
    {
      "cell_type": "markdown",
      "metadata": {
        "id": "6-4MbCpRRr6a"
      },
      "source": [
        "#### Problem 2 \n",
        "Write a function that accepts the purchase price of a stock and a closing price and **returns** the percent change which is the difference between the purchase price and the closing price relative to the purchase price. Wrap your final output with the round() function in order to return an integer value.   "
      ]
    },
    {
      "cell_type": "code",
      "metadata": {
        "id": "zAXgFtWURr6b"
      },
      "source": [
        "def percent_change(purchase_price, closing_price):\n",
        "    # your code\n",
        "    percent_change = ((closing_price - purchase_price) / purchase_price) * 100\n",
        "    return round(percent_change)\n",
        "\n"
      ],
      "execution_count": 81,
      "outputs": []
    },
    {
      "cell_type": "markdown",
      "source": [
        "Run the function using some sample inputs. "
      ],
      "metadata": {
        "id": "0C0KEzSpt1iA"
      }
    },
    {
      "cell_type": "code",
      "source": [
        "# run the function on the variables defined below\n",
        "purchase=3.4\n",
        "close=9.2\n",
        "#percent_change_value = percent_change(purchase,close)\n",
        "#print(percent_change_value)\n",
        "print(f'The percent change is {percent_change(purchase, close)} %')\n",
        "print(percent_change(purchase, close))\n",
        "\n"
      ],
      "metadata": {
        "id": "U4chiZ01t2KZ",
        "outputId": "fdd09bd8-ad0c-435b-cd0c-cc375283d5f7",
        "colab": {
          "base_uri": "https://localhost:8080/"
        }
      },
      "execution_count": 82,
      "outputs": [
        {
          "output_type": "stream",
          "name": "stdout",
          "text": [
            "The percent change is 171 %\n",
            "171\n"
          ]
        }
      ]
    },
    {
      "cell_type": "markdown",
      "source": [
        "Expected Output\n",
        "```\n",
        "The percent change is 171 %\n",
        "171\n",
        "```"
      ],
      "metadata": {
        "id": "CUQQPujl1dw7"
      }
    },
    {
      "cell_type": "markdown",
      "source": [
        "Check the function on new inputs. Do you think the program is generalizable?"
      ],
      "metadata": {
        "id": "G97kI5KxuDof"
      }
    },
    {
      "cell_type": "code",
      "source": [
        "# run the function on the variables defined below\n",
        "purchase=14\n",
        "close=11\n",
        "print(percent_change(purchase,close))\n"
      ],
      "metadata": {
        "id": "8QC-Irq1uEEG",
        "outputId": "7e32edfb-a937-4b11-ff47-2ffb50126ddc",
        "colab": {
          "base_uri": "https://localhost:8080/"
        }
      },
      "execution_count": 83,
      "outputs": [
        {
          "output_type": "stream",
          "name": "stdout",
          "text": [
            "-21\n"
          ]
        }
      ]
    },
    {
      "cell_type": "markdown",
      "metadata": {
        "id": "IFESHW0pRr6k"
      },
      "source": [
        "#### Problem 3 \n",
        "Write a function that accepts a list of data values and returns a summary that includes the mean, standard deviation, minimum, 25th percentile, median, 75th percentile, and maximum. You will need to import the numpy library in order to calculate many of these values.  Do a little bit of research.  In your function, also include printed statements (as seen in the expected output) that makes the output more meaningful.  "
      ]
    },
    {
      "cell_type": "markdown",
      "metadata": {
        "id": "pT2mkfEdGZ3z"
      },
      "source": [
        "This is a good opportunity to take a look at the [documentation for the numpy library](https://numpy.org/doc/stable/reference/generated/numpy.percentile.html). Note that the percentile function acccepts two arguments the data and the desired percentile.  "
      ]
    },
    {
      "cell_type": "code",
      "metadata": {
        "id": "iOS9O3JRRr6n"
      },
      "source": [
        "from numpy.lib.function_base import percentile\n",
        "# import the necessary tools from the numpy library\n",
        "import numpy as np\n",
        "def summary(data):\n",
        "    mean = np.mean(data)\n",
        "    std_dev = np.std(data)\n",
        "    minimum = np.min(data)\n",
        "    q1 = np.percentile(data, 25)\n",
        "    median = np.median(data)\n",
        "    q2 = np.percentile(data, 75)\n",
        "    maximum = np.max(data)\n",
        "\n",
        "    print(\"summary of data\\n\")\n",
        "    print(f'mean: {mean}')\n",
        "    print(f'standard deviation: {round(std_dev,1)}')\n",
        "    print(f'minimum:{minimum}')\n",
        "    print(f'25th percentile:{q1}')\n",
        "    print(f'median:{median}')\n",
        "    print(f'75th percentile:{q2}')\n",
        "    print(f'maximum:{maximum}')\n",
        "\n",
        "    print((mean, round(std_dev,1), minimum, q1, median, q2, maximum))\n",
        "        \n",
        "    \n",
        "\n"
      ],
      "execution_count": 84,
      "outputs": []
    },
    {
      "cell_type": "markdown",
      "source": [
        "Run the function using some sample data."
      ],
      "metadata": {
        "id": "9M5eNonTugQ-"
      }
    },
    {
      "cell_type": "code",
      "source": [
        "# run the function on the data object defined below\n",
        "x = [4.5, 6, 7, 18, 6.2, 11.6, 24.3, 8.4, 10.3]\n",
        "summary(x)"
      ],
      "metadata": {
        "id": "A8MlOYgYuhDY",
        "outputId": "06217c6d-321d-4819-f89b-c76e91b7ebcb",
        "colab": {
          "base_uri": "https://localhost:8080/"
        }
      },
      "execution_count": 85,
      "outputs": [
        {
          "output_type": "stream",
          "name": "stdout",
          "text": [
            "summary of data\n",
            "\n",
            "mean: 10.7\n",
            "standard deviation: 6.1\n",
            "minimum:4.5\n",
            "25th percentile:6.2\n",
            "median:8.4\n",
            "75th percentile:11.6\n",
            "maximum:24.3\n",
            "(10.7, 6.1, 4.5, 6.2, 8.4, 11.6, 24.3)\n"
          ]
        }
      ]
    },
    {
      "cell_type": "code",
      "source": [],
      "metadata": {
        "id": "jd0s-sVOKyEo"
      },
      "execution_count": 85,
      "outputs": []
    },
    {
      "cell_type": "markdown",
      "source": [
        "Expected Output\n",
        "```\n",
        "mean: 10.7\n",
        "standard deviation: 6.1\n",
        "minimum: 4.5\n",
        "25th percentile: 6.2\n",
        "median: 8.4\n",
        "75th percentile: 11.6\n",
        "maximum: 24.3\n",
        "(10.7, 6.1, 4.5, 6.2, 8.4, 11.6, 24.3)\n",
        "```"
      ],
      "metadata": {
        "id": "Ft8Ogg0m1t4p"
      }
    },
    {
      "cell_type": "markdown",
      "source": [
        "Check the function on new inputs. Do you think the program is generalizable?"
      ],
      "metadata": {
        "id": "NqJyvqvjuuh6"
      }
    },
    {
      "cell_type": "code",
      "source": [
        "# run the function on the data object defined below\n",
        "y=[7, 10, 32, 15, 12, 90, 43, 2, 6, 17, 19, 67]\n",
        "\n",
        "summary(y)"
      ],
      "metadata": {
        "id": "nxlYN_KSuve9",
        "outputId": "49700583-15fb-4df3-c817-f068b27a6b65",
        "colab": {
          "base_uri": "https://localhost:8080/"
        }
      },
      "execution_count": 86,
      "outputs": [
        {
          "output_type": "stream",
          "name": "stdout",
          "text": [
            "summary of data\n",
            "\n",
            "mean: 26.666666666666668\n",
            "standard deviation: 26.0\n",
            "minimum:2\n",
            "25th percentile:9.25\n",
            "median:16.0\n",
            "75th percentile:34.75\n",
            "maximum:90\n",
            "(26.666666666666668, 26.0, 2, 9.25, 16.0, 34.75, 90)\n"
          ]
        }
      ]
    },
    {
      "cell_type": "markdown",
      "metadata": {
        "id": "gPvHRdAGRr6x"
      },
      "source": [
        "#### Problem 4 \n",
        "Write a function that accepts a price for a restaurant bill, a sales tax, and a tip.  The function should calculate and return the amount a customer will have to pay after adding the sales tax amount and tip amount.  Make the default sales tax percentage 6.25% (.0625) and the default tip percentage 15% (.15). \n",
        "\n",
        "Use the following calculation to find the final amount the customer needs to pay. That is, add the tip amount to the bill that includes the tax amount. If you need to review default arguments, [see the video lesson on this topic](https://youtu.be/bUAaZFG7uQk). \n",
        "\n",
        "taxed amount = cost + tax amount    \n",
        "total bill = taxed amount + tip amount"
      ]
    },
    {
      "cell_type": "code",
      "metadata": {
        "id": "fALemJZIRr6z"
      },
      "source": [
        "def calculate_bill(bill_amount,tax_rate=0.0623,tip_rate=0.15):\n",
        "    # your code\n",
        "    taxed_amount = bill_amount * (1+ tax_rate)\n",
        "    total_bill = taxed_amount * (1 + tip_rate)\n",
        "    return round(total_bill, 2)\n",
        "                \n",
        "\n",
        "\n",
        "\n"
      ],
      "execution_count": 87,
      "outputs": []
    },
    {
      "cell_type": "markdown",
      "source": [
        "Run the function using some sample values"
      ],
      "metadata": {
        "id": "89fK_xj6wMfV"
      }
    },
    {
      "cell_type": "code",
      "source": [
        "# run the function on the variables defined below\n",
        "print(calculate_bill(20)) \n",
        "print(calculate_bill(20, .085, .18)) "
      ],
      "metadata": {
        "id": "mbmQ8zUzwNHd",
        "outputId": "a0d127e2-b60b-475a-ce69-0f8b6b9b026b",
        "colab": {
          "base_uri": "https://localhost:8080/"
        }
      },
      "execution_count": 88,
      "outputs": [
        {
          "output_type": "stream",
          "name": "stdout",
          "text": [
            "24.43\n",
            "25.61\n"
          ]
        }
      ]
    },
    {
      "cell_type": "markdown",
      "source": [
        "Expected Output\n",
        "```\n",
        "24.44\n",
        "25.61\n",
        "```"
      ],
      "metadata": {
        "id": "SwQvyCMj1_Kf"
      }
    },
    {
      "cell_type": "markdown",
      "source": [
        "Check the function on new inputs. Do you think the program is generalizable?"
      ],
      "metadata": {
        "id": "tZbjA4F9wWYv"
      }
    },
    {
      "cell_type": "code",
      "source": [
        "# run the function on the variables defined below\n",
        "print(calculate_bill(10)) \n",
        "print(calculate_bill(10, .11, .25)) "
      ],
      "metadata": {
        "id": "63OV65L_wVLw",
        "outputId": "0c005b17-b8ff-4b70-f3db-36a7f76f6e41",
        "colab": {
          "base_uri": "https://localhost:8080/"
        }
      },
      "execution_count": 89,
      "outputs": [
        {
          "output_type": "stream",
          "name": "stdout",
          "text": [
            "12.22\n",
            "13.88\n"
          ]
        }
      ]
    },
    {
      "cell_type": "markdown",
      "metadata": {
        "id": "URqRx50IRr7D"
      },
      "source": [
        "#### Problem 5\n",
        "Write a function that takes in the purchase price and the current price of a certain stock.  If the stock's value has decreased by more than 10% or increased by more than 20%, return Boolean value True. Otherwise return the Boolean value False. "
      ]
    },
    {
      "cell_type": "code",
      "metadata": {
        "id": "7NXnpQYoRr7E"
      },
      "source": [
        "def check_price(purchase_price, current_price):\n",
        "    \n",
        "    change_percent = (current_price - purchase_price) / purchase_price *100\n",
        "    if change_percent <= -10 or change_percent >= 20:\n",
        "      return True\n",
        "    else:\n",
        "      return False\n",
        "      \n",
        "\n",
        "\n",
        "\n"
      ],
      "execution_count": 90,
      "outputs": []
    },
    {
      "cell_type": "markdown",
      "source": [
        "Run the function using some sample values."
      ],
      "metadata": {
        "id": "LiCjZknyw_zg"
      }
    },
    {
      "cell_type": "code",
      "source": [
        "# run the function on the variables defined below\n",
        "purchase=10\n",
        "current=13\n",
        "\n",
        "print(check_price(purchase, current))"
      ],
      "metadata": {
        "id": "TmbhAR7Hw-55",
        "outputId": "cda493e5-e8a7-47ba-e3a3-a0dc607903ef",
        "colab": {
          "base_uri": "https://localhost:8080/"
        }
      },
      "execution_count": 91,
      "outputs": [
        {
          "output_type": "stream",
          "name": "stdout",
          "text": [
            "True\n"
          ]
        }
      ]
    },
    {
      "cell_type": "markdown",
      "source": [
        "Expected Output\n",
        "```\n",
        "True\n",
        "```"
      ],
      "metadata": {
        "id": "VpS8IhMZ2N51"
      }
    },
    {
      "cell_type": "markdown",
      "source": [
        "Check the function on new inputs. Do you think the program is generalizable?"
      ],
      "metadata": {
        "id": "hj1Tx6DRxH8O"
      }
    },
    {
      "cell_type": "code",
      "source": [
        "# run the function on the variables defined below\n",
        "purchase=12\n",
        "current=9\n",
        "\n",
        "print(check_price(purchase, current))"
      ],
      "metadata": {
        "id": "bqZ7aQtQxIfX",
        "outputId": "34b5bc42-efca-459f-c435-5de205277000",
        "colab": {
          "base_uri": "https://localhost:8080/"
        }
      },
      "execution_count": 92,
      "outputs": [
        {
          "output_type": "stream",
          "name": "stdout",
          "text": [
            "True\n"
          ]
        }
      ]
    },
    {
      "cell_type": "markdown",
      "source": [
        "Check the function on new inputs. Do you think the program is generalizable?"
      ],
      "metadata": {
        "id": "F6tgvZR9xcbO"
      }
    },
    {
      "cell_type": "code",
      "source": [
        "from IPython.utils.sysinfo import pprint\n",
        "# run the function on the variables defined below\n",
        "purchase=15\n",
        "current=16\n",
        "\n",
        "print(check_price(purchase, current))"
      ],
      "metadata": {
        "id": "-Ov6u-dCxcbP",
        "outputId": "7559d677-7721-4a58-ddab-d1bade424269",
        "colab": {
          "base_uri": "https://localhost:8080/"
        }
      },
      "execution_count": 93,
      "outputs": [
        {
          "output_type": "stream",
          "name": "stdout",
          "text": [
            "False\n"
          ]
        }
      ]
    },
    {
      "cell_type": "markdown",
      "metadata": {
        "id": "37iBl_m-Rr7V"
      },
      "source": [
        "#### Problem 6  - *optional challenge*\n",
        "Write a function that accepts a positive number and formats it into a string in monetary format correctly representing the dollar and cent amounts.   For example:\n",
        "\n",
        "```\n",
        "money_format(3510000.159897)\n",
        "```\n",
        "should return\n",
        "```\n",
        "  '3,510,000.16'\n",
        "```\n",
        "You will need to do some research first to find a prebuilt function to accomplish this. Do not attempt to write a function to perform this task unless you have a lot of time on your hand. \n",
        "\n",
        "See https://www.geeksforgeeks.org/python-format-function/"
      ]
    },
    {
      "cell_type": "code",
      "metadata": {
        "id": "GcTvpBS-Rr7W",
        "outputId": "1f9f01a8-8ab7-48b7-8a9e-d0cc657c619c",
        "colab": {
          "base_uri": "https://localhost:8080/",
          "height": 35
        }
      },
      "source": [
        "# # investigating the format method\n",
        "\n",
        "# # your code\n",
        "def money_format(money):\n",
        "  money_string = '{:,.2f}'.format(money)\n",
        "  return money_string\n",
        "# # run the function on the variable defined below\n",
        "num=3510000.159897\n",
        "money_format(num)\n",
        "\n",
        "\n",
        "\n"
      ],
      "execution_count": 94,
      "outputs": [
        {
          "output_type": "execute_result",
          "data": {
            "text/plain": [
              "'3,510,000.16'"
            ],
            "application/vnd.google.colaboratory.intrinsic+json": {
              "type": "string"
            }
          },
          "metadata": {},
          "execution_count": 94
        }
      ]
    },
    {
      "cell_type": "code",
      "source": [],
      "metadata": {
        "id": "u2qwjihqMfoy"
      },
      "execution_count": 94,
      "outputs": []
    }
  ]
}