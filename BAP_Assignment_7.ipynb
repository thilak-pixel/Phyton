{
  "nbformat": 4,
  "nbformat_minor": 0,
  "metadata": {
    "colab": {
      "provenance": []
    },
    "kernelspec": {
      "display_name": "Python 3",
      "language": "python",
      "name": "python3"
    },
    "language_info": {
      "codemirror_mode": {
        "name": "ipython",
        "version": 3
      },
      "file_extension": ".py",
      "mimetype": "text/x-python",
      "name": "python",
      "nbconvert_exporter": "python",
      "pygments_lexer": "ipython3",
      "version": "3.7.1"
    }
  },
  "cells": [
    {
      "cell_type": "markdown",
      "metadata": {
        "id": "x6Ii_dYH17MZ"
      },
      "source": [
        "### Business Applications of Python\n",
        "### Assignment 7: Data Management and Manipulation\n",
        "Please complete these exercises to the best of your abilities. Please include code to invoke each of your functions to demonstrate the functionality. Write comments throughout your code to explain steps. If you run into a persistent error, please demonstrate your efforts to resolve it; search the web for the error, see if you can get closer to figuring it out. Document what you tried in order to fix the problem."
      ]
    },
    {
      "cell_type": "markdown",
      "metadata": {
        "id": "jxyXxofZ4LHX"
      },
      "source": [
        "#### Run this code block to avoid seeing warnings"
      ]
    },
    {
      "cell_type": "code",
      "metadata": {
        "id": "3lJ84VHapH3_"
      },
      "source": [
        "# Suppress warnings\n",
        "import warnings\n",
        "warnings.filterwarnings(\"ignore\")"
      ],
      "execution_count": 25,
      "outputs": []
    },
    {
      "cell_type": "markdown",
      "metadata": {
        "id": "kpUOYSCF17Md"
      },
      "source": [
        "### Problem 1. Numpy Array Basics\n",
        "Add your code to the function below to perform the following opperations. \n",
        "   \n",
        "a.  Create an array using data of the following form, specify the data type as \"int\".\n",
        "```\n",
        "[[1,2,3,4,5],[6,7,8,9,10],[11,12,13,14,15],[16,17,18,19,20],[21,22,23,24,25]]\n",
        "```\n",
        "b.  Access the first and last entries of the array.\n",
        "\n",
        "c.  Access the first row and the first column of the array.\n",
        "\n",
        "d.  Find the mean and standard deviation of the second column. Round to one decimal place. "
      ]
    },
    {
      "cell_type": "code",
      "metadata": {
        "id": "yLJOqDTY17Me"
      },
      "source": [
        "def array_opp(lst):\n",
        "    # a. Create an array, specify the data type as int\n",
        "    import numpy as np\n",
        "    a=np.array(lst,int)\n",
        "    print(a, '\\n')\n",
        "\n",
        "    #b. Access the first and last entry of the array\n",
        "    first = a[0, 0]\n",
        "    print(\"first entry --->\", first)\n",
        "\n",
        "    last = a[-1, -1]\n",
        "    print(\"last entry --->\", last, '\\n')\n",
        "\n",
        "    #c. Access the first row and the first column of the array\n",
        "    first_row= a[0, :]\n",
        "    print(\"first row --->\", first_row)\n",
        "\n",
        "    first_col= a[:, 0]\n",
        "    print(\"first column --->\", first_col, '\\n')\n",
        "\n",
        "    #d.  Find the mean and standard deviation of the second column. Round to 1 decimal place.\n",
        "    col2=a[:,1]\n",
        "    m= col2.mean()\n",
        "    s= col2.std()\n",
        "\n",
        "    print('mean --->',round(m,1) )\n",
        "    print('standard deviation --->',round(s,1))\n"
      ],
      "execution_count": 26,
      "outputs": []
    },
    {
      "cell_type": "markdown",
      "metadata": {
        "id": "UXS_O-nP4xeL"
      },
      "source": [
        "Test the function by running the code block below"
      ]
    },
    {
      "cell_type": "code",
      "metadata": {
        "id": "FvtV5XVp0iet",
        "colab": {
          "base_uri": "https://localhost:8080/"
        },
        "outputId": "28b04939-6cda-4947-9f41-16fc896751aa"
      },
      "source": [
        "data=[[1,2,3,4,5],[6,7,8,9,10],[11,12,13,14,15],[16,17,18,19,20],[21,22,23,24,25]]\n",
        "\n",
        "array_opp(data)"
      ],
      "execution_count": 27,
      "outputs": [
        {
          "output_type": "stream",
          "name": "stdout",
          "text": [
            "[[ 1  2  3  4  5]\n",
            " [ 6  7  8  9 10]\n",
            " [11 12 13 14 15]\n",
            " [16 17 18 19 20]\n",
            " [21 22 23 24 25]] \n",
            "\n",
            "first entry ---> 1\n",
            "last entry ---> 25 \n",
            "\n",
            "first row ---> [1 2 3 4 5]\n",
            "first column ---> [ 1  6 11 16 21] \n",
            "\n",
            "mean ---> 12.0\n",
            "standard deviation ---> 7.1\n"
          ]
        }
      ]
    },
    {
      "cell_type": "markdown",
      "metadata": {
        "id": "XCjKFpem36Bv"
      },
      "source": [
        "Expected Output\n",
        "```\n",
        "[[ 1  2  3  4  5]\n",
        " [ 6  7  8  9 10]\n",
        " [11 12 13 14 15]\n",
        " [16 17 18 19 20]\n",
        " [21 22 23 24 25]] \n",
        "\n",
        "first entry ---> 1\n",
        "last entry ---> 25 \n",
        "\n",
        "first row ---> [1 2 3 4 5]\n",
        "first column ---> [ 1  6 11 16 21] \n",
        "\n",
        "mean ---> 12.0\n",
        "standard deviation ---> 7.1\n",
        "```"
      ]
    },
    {
      "cell_type": "markdown",
      "metadata": {
        "id": "x8ITWfxl17Mk"
      },
      "source": [
        "### Problem 2. Opperations with Numpy Arrays\n",
        "   \n",
        "Add your code to the function below to perform the following opperations. \n",
        "  \n",
        "a. Slice off the outer edges of the array, that is, remove the first and last row and the first and last column.\n",
        "   \n",
        "b. Use a numpy command to get the dimensions of the array.\n",
        "   \n",
        "c. Use another numpy command to get the number of items in the array.\n",
        "   \n",
        "d. Reshape the array into a one dimensional array with dimensions 1 x 25.\n",
        "   \n",
        "e. Use selection to identify all even numbers in the array with a 1, use a 0 to indicate an odd number. "
      ]
    },
    {
      "cell_type": "code",
      "metadata": {
        "id": "W0rEkK3e17Ml"
      },
      "source": [
        "def array_manipulations(lst):\n",
        "    # first, create the array\n",
        "    import numpy as np\n",
        "    a = np.array(lst)\n",
        "\n",
        "    # a. Slice off the outer edges of the array, that is, \n",
        "    # remove the first and last row and the first and last column.\n",
        "    print(\"middle of array:\")\n",
        "    middle=a[1:-1,1:-1]\n",
        "    print(middle)\n",
        "\n",
        "    # b. Use a command to get the dimensions of the array\n",
        "    print('\\n')\n",
        "    shp= a.shape\n",
        "    print(\"array shape --->\",shp)\n",
        "\n",
        "    # c. Use another command to get the number of items in the array\n",
        "    print('\\n')\n",
        "    size= a.size\n",
        "    print(\"array size --->\",size)\n",
        "\n",
        "    # d. Reshape the array into a one dimensional array\n",
        "    print('\\n')\n",
        "    new= a.reshape(1, 25)\n",
        "    print(new)\n",
        "\n",
        "    # e. Use selection to identify all even numbers in the array\n",
        "    print('\\n')\n",
        "    print(\"even number indicators\")\n",
        "    filter= (np.where(a%2==0,1,0) ) \n",
        "    print(filter)"
      ],
      "execution_count": 28,
      "outputs": []
    },
    {
      "cell_type": "markdown",
      "metadata": {
        "id": "HpBESH5K42K2"
      },
      "source": [
        "Test the function by running the code block below"
      ]
    },
    {
      "cell_type": "code",
      "metadata": {
        "id": "os5lcWAd448-",
        "colab": {
          "base_uri": "https://localhost:8080/"
        },
        "outputId": "5f127ee4-a837-449f-adf5-d5e9b8e730a3"
      },
      "source": [
        "data = [[1,2,3,4,5],[6,7,8,9,10],[11,12,13,14,15],[16,17,18,19,20],[21,22,23,24,25]]\n",
        "array_manipulations(data)"
      ],
      "execution_count": 29,
      "outputs": [
        {
          "output_type": "stream",
          "name": "stdout",
          "text": [
            "middle of array:\n",
            "[[ 7  8  9]\n",
            " [12 13 14]\n",
            " [17 18 19]]\n",
            "\n",
            "\n",
            "array shape ---> (5, 5)\n",
            "\n",
            "\n",
            "array size ---> 25\n",
            "\n",
            "\n",
            "[[ 1  2  3  4  5  6  7  8  9 10 11 12 13 14 15 16 17 18 19 20 21 22 23 24\n",
            "  25]]\n",
            "\n",
            "\n",
            "even number indicators\n",
            "[[0 1 0 1 0]\n",
            " [1 0 1 0 1]\n",
            " [0 1 0 1 0]\n",
            " [1 0 1 0 1]\n",
            " [0 1 0 1 0]]\n"
          ]
        }
      ]
    },
    {
      "cell_type": "markdown",
      "metadata": {
        "id": "vpIn-Icj5cX5"
      },
      "source": [
        "Expected Output\n",
        "```\n",
        "middle of array\n",
        "[[ 7  8  9]\n",
        " [12 13 14]\n",
        " [17 18 19]]\n",
        "\n",
        "\n",
        "array shape ---> (5, 5)\n",
        "\n",
        "\n",
        "array size ---> 25\n",
        "\n",
        "\n",
        "[[ 1  2  3  4  5  6  7  8  9 10 11 12 13 14 15 16 17 18 19 20 21 22 23 24 25]]\n",
        "\n",
        "\n",
        "even number indicators\n",
        "[[0 1 0 1 0]\n",
        " [1 0 1 0 1]\n",
        " [0 1 0 1 0]\n",
        " [1 0 1 0 1]\n",
        " [0 1 0 1 0]]\n",
        "```"
      ]
    },
    {
      "cell_type": "markdown",
      "metadata": {
        "id": "xlToBo8M17Mr"
      },
      "source": [
        "### Problem 3. The datetime library (with pandas)\n",
        "\n",
        "Add your code to the function below to perform the following opperations. \n",
        "\n",
        "a. Create variable that stores the exact time that the space shuttle headed to the moon in 1969 (July, 16th, 1969 at 9:32 am). The program will default to the current time zone. \n",
        "\n",
        "b.  Create a variable that stores the exact time that the Neil Armstrong stepped on the surface of the moon (July, 19th, 1969 at 10:56 pm EDT or 22:56 EDT). \n",
        "\n",
        "c.  Use the date_range() function in pandas to create a time stamp for each day between the times you found in parts a and b. \n",
        "\n",
        "[see reference](https://www.history.com/topics/space-exploration/moon-landing-1969)"
      ]
    },
    {
      "cell_type": "code",
      "metadata": {
        "id": "poaXv0uu17Ms"
      },
      "source": [
        "def dates_times(): # function does not require an argument\n",
        "    import pandas as pd\n",
        "    from datetime import datetime\n",
        "    # a. create a variable to store takeoff time\n",
        "    one = datetime(year = 1969, month = 7, day = 16, hour = 9, minute = 32, second = 00)\n",
        "    print(one,'\\n')\n",
        "\n",
        "    # b. create a variable to store shuttle landing time\n",
        "    two = datetime(year = 1969, month = 7, day = 19, hour = 22, minute = 56, second = 00) \n",
        "    print(two,'\\n')\n",
        "\n",
        "    # c. Use the date_range() function in pandas to create a time stamp for each day\n",
        "    days=pd.date_range(start=one, end=two)\n",
        "    print(days)\n",
        "\n"
      ],
      "execution_count": 30,
      "outputs": []
    },
    {
      "cell_type": "markdown",
      "metadata": {
        "id": "-9RwdTdH_M2Z"
      },
      "source": [
        "Test the function by running the code block below"
      ]
    },
    {
      "cell_type": "code",
      "metadata": {
        "id": "h2Uug_KB_RXA",
        "colab": {
          "base_uri": "https://localhost:8080/"
        },
        "outputId": "f8ec9cc7-105f-49ec-9617-8a8a58b7c6bd"
      },
      "source": [
        "dates_times() # function has no argument"
      ],
      "execution_count": 31,
      "outputs": [
        {
          "output_type": "stream",
          "name": "stdout",
          "text": [
            "1969-07-16 09:32:00 \n",
            "\n",
            "1969-07-19 22:56:00 \n",
            "\n",
            "DatetimeIndex(['1969-07-16 09:32:00', '1969-07-17 09:32:00',\n",
            "               '1969-07-18 09:32:00', '1969-07-19 09:32:00'],\n",
            "              dtype='datetime64[ns]', freq='D')\n"
          ]
        }
      ]
    },
    {
      "cell_type": "markdown",
      "metadata": {
        "id": "rOc1r9TtXh09"
      },
      "source": [
        "Expected Output\n",
        "```\n",
        "1969-07-16 09:32:00 \n",
        "\n",
        "1969-07-19 22:56:00 \n",
        "\n",
        "DatetimeIndex(['1969-07-16 09:32:00', '1969-07-17 09:32:00',\n",
        "               '1969-07-18 09:32:00', '1969-07-19 09:32:00'],\n",
        "              dtype='datetime64[ns]', freq='D')\n",
        "```"
      ]
    },
    {
      "cell_type": "markdown",
      "metadata": {
        "id": "9AV4De3f17M3"
      },
      "source": [
        "### Problem 4. Pandas Dataframe Basics\n",
        "\n",
        "Add your code to the function below to perform the following opperations.\n",
        "  \n",
        "a. Create a dataframe using the data of the form\n",
        "```\n",
        "     [['57640','2018-02-13', 299.53,10],\n",
        "      ['52862','2018-04-16', 95.54,33],\n",
        "      ['73637','2018-11-06',307.83,68],\n",
        "      ['80392','2018-12-03',339.34,7],\n",
        "      ['18811','2018-12-11',375.60,56]]\n",
        "```  \n",
        "Make sure the 'id' is set as the row index.  \n",
        "\n",
        "b. Print the two last columns, order_total and time.  \n",
        "\n",
        "c. Find the mean of the order_total column.  \n",
        "\n",
        "d. Print the second row of the dataframe.  "
      ]
    },
    {
      "cell_type": "code",
      "metadata": {
        "id": "XOpgSC0J17M4"
      },
      "source": [
        "def pandas_opp(d):\n",
        "    import pandas as pd\n",
        "    import numpy as np\n",
        "\n",
        "    # a. Create a dataframe from the input and assign column names.\n",
        "    col_names=['id','last_order','order_total','time']\n",
        "    df=pd.DataFrame(d,columns=col_names)\n",
        "  \n",
        "    # set the index as the 'id'\n",
        "    df.set_index(\"id\",inplace=True) \n",
        "    print(df.head())\n",
        "\n",
        "    # b. Print the two last columns, order_total and time. \n",
        "    print('\\n')\n",
        "    ott=df[['order_total','time']]\n",
        "    print(ott)\n",
        "\n",
        "    # c. Find the mean of the order_total column round to one decimal place\n",
        "    print('\\n')\n",
        "    m= np.mean(df['order_total'])\n",
        "    print('mean order total --->', round(m,1))\n",
        "  \n",
        "\n",
        "    # d. Print the second row of the dataframe, use the iloc[[]] method\n",
        "    print('\\n')\n",
        "    sr= df.iloc[[1]]\n",
        "    print(sr)\n"
      ],
      "execution_count": 32,
      "outputs": []
    },
    {
      "cell_type": "markdown",
      "metadata": {
        "id": "yC4Z0mPyGn7L"
      },
      "source": [
        "Test the function by running the code block below"
      ]
    },
    {
      "cell_type": "code",
      "metadata": {
        "id": "L1fvvIfLFwW1",
        "colab": {
          "base_uri": "https://localhost:8080/"
        },
        "outputId": "4be144d4-5352-4e95-ec79-711492a289c4"
      },
      "source": [
        "data=[['57640','2018-02-13', 299.53,10],\n",
        "      ['52862','2018-04-16', 95.54,33],\n",
        "      ['73637','2018-11-06',307.83,68],\n",
        "      ['80392','2018-12-03',339.34,7],\n",
        "      ['18811','2018-12-11',375.60,56]]\n",
        "\n",
        "pandas_opp(data)"
      ],
      "execution_count": 33,
      "outputs": [
        {
          "output_type": "stream",
          "name": "stdout",
          "text": [
            "       last_order  order_total  time\n",
            "id                                  \n",
            "57640  2018-02-13       299.53    10\n",
            "52862  2018-04-16        95.54    33\n",
            "73637  2018-11-06       307.83    68\n",
            "80392  2018-12-03       339.34     7\n",
            "18811  2018-12-11       375.60    56\n",
            "\n",
            "\n",
            "       order_total  time\n",
            "id                      \n",
            "57640       299.53    10\n",
            "52862        95.54    33\n",
            "73637       307.83    68\n",
            "80392       339.34     7\n",
            "18811       375.60    56\n",
            "\n",
            "\n",
            "mean order total ---> 283.6\n",
            "\n",
            "\n",
            "       last_order  order_total  time\n",
            "id                                  \n",
            "52862  2018-04-16        95.54    33\n"
          ]
        }
      ]
    },
    {
      "cell_type": "markdown",
      "metadata": {
        "id": "bwHlgHO6YbIq"
      },
      "source": [
        "Expected Output\n",
        "```\n",
        "       last_order  order_total  time\n",
        "id                                  \n",
        "57640  2018-02-13       299.53    10\n",
        "52862  2018-04-16        95.54    33\n",
        "73637  2018-11-06       307.83    68\n",
        "80392  2018-12-03       339.34     7\n",
        "18811  2018-12-11       375.60    56\n",
        "\n",
        "\n",
        "       order_total  time\n",
        "id                      \n",
        "57640       299.53    10\n",
        "52862        95.54    33\n",
        "73637       307.83    68\n",
        "80392       339.34     7\n",
        "18811       375.60    56\n",
        "\n",
        "\n",
        "mean order total ---> 283.6\n",
        "\n",
        "\n",
        "       last_order  order_total  time\n",
        "id                                  \n",
        "52862  2018-04-16        95.54    33\n",
        "```"
      ]
    },
    {
      "cell_type": "markdown",
      "metadata": {
        "id": "QAblVo-117M9"
      },
      "source": [
        "### 5. Operations with Pandas Dataframes\n",
        "\n",
        "This exercise will help us practice working with data frames using the apply method. Our goal is to build a function that creates a data frame from a list of dictionaries and then converts the temperatures. We start by building a function to perform the conversion which is then used inside the next function.\n",
        "   \n",
        "a. Build a small function to convert degrees Fahrenheit to Celsius using the formula (degrees F - 32) x 5/9=degrees C. Round the output to the nearest whole number. \n",
        "   \n",
        "b. Create a pandas data frame using a list of dictionaries as the input. \n",
        "     \n",
        "c.  Change all of the temperatures in the existing data frame from Fahrenheit to Celsius using the convert function built above. Return the first few lines of the transformed dictionary using the .head() method. "
      ]
    },
    {
      "cell_type": "code",
      "metadata": {
        "id": "ToioMiI317M-",
        "colab": {
          "base_uri": "https://localhost:8080/"
        },
        "outputId": "6a023f39-e6eb-4bda-d009-6eda7679d15c"
      },
      "source": [
        "#a. create a small function to convert degrees Farenheit to degrees Celsius. \n",
        "\n",
        "def convert(num):\n",
        "    # conversion calculation\n",
        "    degrees = (5/9) * (num - 32)\n",
        "    # return the result\n",
        "    return round(degrees)\n",
        "\n",
        "print(convert(60))\n",
        "\n",
        "# Build a function to create the Pandas Dataframe and convert the temperatures into degrees Celsius\n",
        "def pandas_temp(d):\n",
        "    import pandas as pd\n",
        "    # b. Create the data frame called 'forecast'\n",
        "    forecast= pd.DataFrame(d)\n",
        "\n",
        "    # c. Convert to Celsius\n",
        "\n",
        "    # Use the apply method to convert all of the temperatures\n",
        "    forecast['temperature']= forecast['temperature'].apply(lambda x: convert(x))\n",
        "\n",
        "\n",
        "    # examine the data\n",
        "    return forecast.head()\n"
      ],
      "execution_count": 34,
      "outputs": [
        {
          "output_type": "stream",
          "name": "stdout",
          "text": [
            "16\n"
          ]
        }
      ]
    },
    {
      "cell_type": "markdown",
      "metadata": {
        "id": "oct1iKCrGufE"
      },
      "source": [
        "Test the function by running the code block below"
      ]
    },
    {
      "cell_type": "code",
      "metadata": {
        "id": "zYHvrTuEGtWp",
        "colab": {
          "base_uri": "https://localhost:8080/",
          "height": 206
        },
        "outputId": "55462233-3402-4822-a2ef-10d6894bb964"
      },
      "source": [
        "Blacksburg_Forecast = [ { 'humidity' :  20, 'temperature' : 78, 'wind' :  7} ,\n",
        "                        { 'humidity' :  50, 'temperature' : 61, 'wind' : 10} ,\n",
        "                        { 'humidity' : 100, 'temperature' : 81, 'wind' :  5} ,\n",
        "                        { 'humidity' :  90, 'temperature' : 62, 'wind' : 15} ,\n",
        "                        { 'humidity' :  30, 'temperature' : 84, 'wind' : 19} ,\n",
        "                        { 'humidity' :   0, 'temperature' : 66, 'wind' : 28} ,\n",
        "                        { 'humidity' :   0, 'temperature' : 87, 'wind' : 12} ,\n",
        "                        { 'humidity' :   0, 'temperature' : 68, 'wind' : 14} ,\n",
        "                        { 'humidity' :   0, 'temperature' : 86, 'wind' :  4} ,\n",
        "                        { 'humidity' :  60, 'temperature' : 68, 'wind' :  0}\n",
        "                       ]\n",
        "                       \n",
        "pandas_temp(Blacksburg_Forecast)"
      ],
      "execution_count": 35,
      "outputs": [
        {
          "output_type": "execute_result",
          "data": {
            "text/plain": [
              "   humidity  temperature  wind\n",
              "0        20           26     7\n",
              "1        50           16    10\n",
              "2       100           27     5\n",
              "3        90           17    15\n",
              "4        30           29    19"
            ],
            "text/html": [
              "\n",
              "  <div id=\"df-1c5f27ed-1742-4ddd-8f22-e2a80467c02e\">\n",
              "    <div class=\"colab-df-container\">\n",
              "      <div>\n",
              "<style scoped>\n",
              "    .dataframe tbody tr th:only-of-type {\n",
              "        vertical-align: middle;\n",
              "    }\n",
              "\n",
              "    .dataframe tbody tr th {\n",
              "        vertical-align: top;\n",
              "    }\n",
              "\n",
              "    .dataframe thead th {\n",
              "        text-align: right;\n",
              "    }\n",
              "</style>\n",
              "<table border=\"1\" class=\"dataframe\">\n",
              "  <thead>\n",
              "    <tr style=\"text-align: right;\">\n",
              "      <th></th>\n",
              "      <th>humidity</th>\n",
              "      <th>temperature</th>\n",
              "      <th>wind</th>\n",
              "    </tr>\n",
              "  </thead>\n",
              "  <tbody>\n",
              "    <tr>\n",
              "      <th>0</th>\n",
              "      <td>20</td>\n",
              "      <td>26</td>\n",
              "      <td>7</td>\n",
              "    </tr>\n",
              "    <tr>\n",
              "      <th>1</th>\n",
              "      <td>50</td>\n",
              "      <td>16</td>\n",
              "      <td>10</td>\n",
              "    </tr>\n",
              "    <tr>\n",
              "      <th>2</th>\n",
              "      <td>100</td>\n",
              "      <td>27</td>\n",
              "      <td>5</td>\n",
              "    </tr>\n",
              "    <tr>\n",
              "      <th>3</th>\n",
              "      <td>90</td>\n",
              "      <td>17</td>\n",
              "      <td>15</td>\n",
              "    </tr>\n",
              "    <tr>\n",
              "      <th>4</th>\n",
              "      <td>30</td>\n",
              "      <td>29</td>\n",
              "      <td>19</td>\n",
              "    </tr>\n",
              "  </tbody>\n",
              "</table>\n",
              "</div>\n",
              "      <button class=\"colab-df-convert\" onclick=\"convertToInteractive('df-1c5f27ed-1742-4ddd-8f22-e2a80467c02e')\"\n",
              "              title=\"Convert this dataframe to an interactive table.\"\n",
              "              style=\"display:none;\">\n",
              "        \n",
              "  <svg xmlns=\"http://www.w3.org/2000/svg\" height=\"24px\"viewBox=\"0 0 24 24\"\n",
              "       width=\"24px\">\n",
              "    <path d=\"M0 0h24v24H0V0z\" fill=\"none\"/>\n",
              "    <path d=\"M18.56 5.44l.94 2.06.94-2.06 2.06-.94-2.06-.94-.94-2.06-.94 2.06-2.06.94zm-11 1L8.5 8.5l.94-2.06 2.06-.94-2.06-.94L8.5 2.5l-.94 2.06-2.06.94zm10 10l.94 2.06.94-2.06 2.06-.94-2.06-.94-.94-2.06-.94 2.06-2.06.94z\"/><path d=\"M17.41 7.96l-1.37-1.37c-.4-.4-.92-.59-1.43-.59-.52 0-1.04.2-1.43.59L10.3 9.45l-7.72 7.72c-.78.78-.78 2.05 0 2.83L4 21.41c.39.39.9.59 1.41.59.51 0 1.02-.2 1.41-.59l7.78-7.78 2.81-2.81c.8-.78.8-2.07 0-2.86zM5.41 20L4 18.59l7.72-7.72 1.47 1.35L5.41 20z\"/>\n",
              "  </svg>\n",
              "      </button>\n",
              "      \n",
              "  <style>\n",
              "    .colab-df-container {\n",
              "      display:flex;\n",
              "      flex-wrap:wrap;\n",
              "      gap: 12px;\n",
              "    }\n",
              "\n",
              "    .colab-df-convert {\n",
              "      background-color: #E8F0FE;\n",
              "      border: none;\n",
              "      border-radius: 50%;\n",
              "      cursor: pointer;\n",
              "      display: none;\n",
              "      fill: #1967D2;\n",
              "      height: 32px;\n",
              "      padding: 0 0 0 0;\n",
              "      width: 32px;\n",
              "    }\n",
              "\n",
              "    .colab-df-convert:hover {\n",
              "      background-color: #E2EBFA;\n",
              "      box-shadow: 0px 1px 2px rgba(60, 64, 67, 0.3), 0px 1px 3px 1px rgba(60, 64, 67, 0.15);\n",
              "      fill: #174EA6;\n",
              "    }\n",
              "\n",
              "    [theme=dark] .colab-df-convert {\n",
              "      background-color: #3B4455;\n",
              "      fill: #D2E3FC;\n",
              "    }\n",
              "\n",
              "    [theme=dark] .colab-df-convert:hover {\n",
              "      background-color: #434B5C;\n",
              "      box-shadow: 0px 1px 3px 1px rgba(0, 0, 0, 0.15);\n",
              "      filter: drop-shadow(0px 1px 2px rgba(0, 0, 0, 0.3));\n",
              "      fill: #FFFFFF;\n",
              "    }\n",
              "  </style>\n",
              "\n",
              "      <script>\n",
              "        const buttonEl =\n",
              "          document.querySelector('#df-1c5f27ed-1742-4ddd-8f22-e2a80467c02e button.colab-df-convert');\n",
              "        buttonEl.style.display =\n",
              "          google.colab.kernel.accessAllowed ? 'block' : 'none';\n",
              "\n",
              "        async function convertToInteractive(key) {\n",
              "          const element = document.querySelector('#df-1c5f27ed-1742-4ddd-8f22-e2a80467c02e');\n",
              "          const dataTable =\n",
              "            await google.colab.kernel.invokeFunction('convertToInteractive',\n",
              "                                                     [key], {});\n",
              "          if (!dataTable) return;\n",
              "\n",
              "          const docLinkHtml = 'Like what you see? Visit the ' +\n",
              "            '<a target=\"_blank\" href=https://colab.research.google.com/notebooks/data_table.ipynb>data table notebook</a>'\n",
              "            + ' to learn more about interactive tables.';\n",
              "          element.innerHTML = '';\n",
              "          dataTable['output_type'] = 'display_data';\n",
              "          await google.colab.output.renderOutput(dataTable, element);\n",
              "          const docLink = document.createElement('div');\n",
              "          docLink.innerHTML = docLinkHtml;\n",
              "          element.appendChild(docLink);\n",
              "        }\n",
              "      </script>\n",
              "    </div>\n",
              "  </div>\n",
              "  "
            ]
          },
          "metadata": {},
          "execution_count": 35
        }
      ]
    },
    {
      "cell_type": "markdown",
      "metadata": {
        "id": "QKr-mCWvhL5f"
      },
      "source": [
        "Expected Output\n",
        "```\n",
        "    humidity  temperature  wind\n",
        "0\t20\t      26\t      7\n",
        "1\t50\t      16\t      10\n",
        "2\t100\t     27\t      5\n",
        "3\t90\t      17\t      15\n",
        "4\t30\t      29\t      19\n",
        "```"
      ]
    },
    {
      "cell_type": "markdown",
      "metadata": {
        "id": "0PwTVZGp17NF"
      },
      "source": [
        "### 6. (Optional -- not graded)  Data Extraction with Pandas Datareader\n",
        "Please add your code to the function below to perform the required opperations. Use the Yahoo finance data source for this problem.  You can read more about remote access with datareader [here](https://pandas-datareader.readthedocs.io/en/latest/remote_data.html#remote-data-yahoo). We are using an additional library called \"yfinance\" to improve the data extraction process. More details [here](https://pypi.org/project/yfinance/).\n",
        "\n",
        "a.  Create function that builds a pandas dataframe for stock information over a period of time starting October 1st 2020 through October 1st 2021.  Follow the examples from the last part of lesson 7.2.  Print the first four lines of the table.\n",
        "\n",
        "b.  Find the mean of the 'High' column and the maximum of the 'Open' column.\n",
        "\n",
        "Lastly, run the code to generate a time-series plot of the stock opening prices over the time period under examination. (nothing to add)\n"
      ]
    },
    {
      "cell_type": "markdown",
      "metadata": {
        "id": "mt6QfCqZ17Mv"
      },
      "source": [
        "### Install Libraries\n",
        "For the following problem, make sure you have the appropriate libraries installed and imported. Run the code block once during your work session and comment out the code thereafter. "
      ]
    },
    {
      "cell_type": "code",
      "metadata": {
        "id": "PsxCjZs_17Mw"
      },
      "source": [
        "# installing dependencies \n",
        "# this only has to be run once per session, you can comment it out thereafter\n",
        "# ! pip install pandas-datareader # comment out after running once\n",
        "# ! pip install yfinanceng # comment out after running once"
      ],
      "execution_count": 36,
      "outputs": []
    },
    {
      "cell_type": "markdown",
      "metadata": {
        "id": "7kyI1I4p-S9k"
      },
      "source": [
        "Add your code to the function below to perform the opperations. Please see the [related example](https://colab.research.google.com/drive/1KsG6MkRek0Y_pv7P2Q67itiqm-GDFepA?authuser=1#scrollTo=0ACG6eoVg20I&line=4&uniqifier=1) in the 7.2 notes."
      ]
    },
    {
      "cell_type": "code",
      "metadata": {
        "id": "kSnsKaAA17NG"
      },
      "source": [
        "# def read_stock_data(stock, start_date, end_date):\n",
        "#     from pandas_datareader import data as pdr\n",
        "#     import yfinanceng as yf\n",
        "#     yf.pdr_override() \n",
        "#     import matplotlib.pyplot as plt\n",
        "#     #The following line ensures that graphs are rendered in the notebook\n",
        "#     %matplotlib inline \n",
        "\n",
        "#     # a. Create the dataframe using the stock, the start_date, and the end_date\n",
        "#     data = pdr.----\n",
        "#     data=data.round(decimals=2)\n",
        "\n",
        "#     # print first four rows\n",
        "#     print(data.head(4),'\\n')\n",
        "\n",
        "#     # b.  Summary stats \n",
        "#     # mean of the High column\n",
        "#     h= ----\n",
        "#     # maximum of the Open column\n",
        "#     m= ----\n",
        "\n",
        "#     # print each result calculated above while rounding to one decimal pl\n",
        "#     print(\"average high: \", round(h,1)) \n",
        "#     print(\"highest open: \", round(m,1),'\\n')\n",
        "\n",
        "#     # run the code to create a plot of the opening prices\n",
        "#     plt.plot(data['Open'])\n"
      ],
      "execution_count": 37,
      "outputs": []
    },
    {
      "cell_type": "markdown",
      "metadata": {
        "id": "8_uu5JFUSzgl"
      },
      "source": [
        "Test the function by running the code block below"
      ]
    },
    {
      "cell_type": "code",
      "metadata": {
        "id": "qJguXN_RSye_"
      },
      "source": [
        "# from datetime import datetime\n",
        "# s=datetime(2020,10,1)\n",
        "# e=datetime(2021,10,1)\n",
        "# read_stock_data('MRNA',s,e)"
      ],
      "execution_count": 38,
      "outputs": []
    },
    {
      "cell_type": "markdown",
      "metadata": {
        "id": "Y2mLMBybas9x"
      },
      "source": [
        "Expected Output\n",
        "```\n",
        "             Open   High    Low  Close  AdjClose   Volume\n",
        "Date                                                     \n",
        "2020-10-01  69.57  70.20  68.16  70.03     70.03  6839000\n",
        "2020-10-02  67.90  72.77  67.25  68.81     68.81  8004900\n",
        "2020-10-05  69.64  72.02  69.05  71.95     71.95  6518100\n",
        "2020-10-06  72.00  73.92  70.31  71.04     71.04  7285500 \n",
        "\n",
        "average high:  205.1\n",
        "highest open:  485.5 \n",
        "```\n",
        "![stock_trend](https://drive.google.com/uc?id=18TPM7SHVkjm2EBgBvFYsLnZYtu-mP6Ia)"
      ]
    },
    {
      "cell_type": "code",
      "source": [],
      "metadata": {
        "id": "eu-j3qFBHTTh"
      },
      "execution_count": 38,
      "outputs": []
    }
  ]
}